{
 "cells": [
  {
   "cell_type": "code",
   "execution_count": 4,
   "metadata": {},
   "outputs": [],
   "source": [
    "import tensorflow as tf\n",
    "import argparse\n",
    "from skimage import measure as m\n",
    "import numpy as np\n",
    "import os\n",
    "from PIL import Image\n",
    "from utils import load_image_test\n",
    "import scipy\n",
    "import matplotlib.pyplot as plt\n",
    "import scipy.misc\n",
    "\n",
    "np.set_printoptions(suppress=True)\n",
    "\n",
    "def image_to_tensor(image):\n",
    "    image = tf.expand_dims(image,0)\n",
    "    image = tf.expand_dims(image,-1)\n",
    "    return image\n",
    "\n",
    "def get_image_names(file_path, with_gt=True,epoch='test'):\n",
    "    L1 = []\n",
    "    if with_gt:\n",
    "        L2 = []\n",
    "    for root,dirs,files in os.walk(file_path):\n",
    "        for file in files:\n",
    "            if epoch == 'test':\n",
    "                if (os.path.splitext(file)[1] == '.jpg' or os.path.splitext(file)[1] == '.tif'):\n",
    "                    L1.append(os.path.join(root,file))\n",
    "                    if with_gt:\n",
    "                        L2.append(os.path.join('datasets/super/test/gt/', file))\n",
    "            else:\n",
    "                if epoch in file and (os.path.splitext(file)[1] == '.jpg' or os.path.splitext(file)[1] == '.tif'):\n",
    "                    L1.append(os.path.join(root,file))\n",
    "                    if with_gt:\n",
    "                        L2.append(os.path.join('datasets/super/test/gt/',file))\n",
    "    if with_gt:\n",
    "        return L1,L2\n",
    "    else:\n",
    "        return L1\n",
    "\n",
    "def evaluate_val(dataset_name,epoch='0000'):\n",
    "    for k,data_name in enumerate(dataset_name):\n",
    "        print(data_name)\n",
    "        sample_files1 = get_image_names(data_name,with_gt = False,epoch=epoch)\n",
    "        value_g = [0.0]*4\n",
    "        value_g_13 = [0.0]*4\n",
    "        value_g_14 = [0.0]*4\n",
    "        for i in range(0,len(sample_files1)):\n",
    "            image1,image2,image3,image4 = load_image_test(sample_files1[i])\n",
    "            image1 = image1.astype(np.float32)        \n",
    "            image2 = image2.astype(np.float32)\n",
    "            image3 = image3.astype(np.float32)\n",
    "            image4 = image4.astype(np.float32)\n",
    "            plt.subplot(1,4,1)\n",
    "            plt.imshow(image1)\n",
    "            plt.subplot(1,4,2)\n",
    "            plt.imshow(image2)\n",
    "            plt.subplot(1,4,3)\n",
    "            plt.imshow(image3)\n",
    "            plt.subplot(1,4,4)\n",
    "            plt.imshow(image4)\n",
    "            print(image1.shape)\n",
    "            print(image2.shape)\n",
    "            print(image3.shape)\n",
    "            print(image4.shape)\n",
    "            value_g[0] += m.compare_mse(image2,image1)\n",
    "            value_g[1] += m.compare_nrmse(image2,image1)\n",
    "            value_g[2] += m.compare_psnr(image2,image1,data_range=255)\n",
    "            value_g[3] += m.compare_ssim(image2,image1,K1=0.01,K2=0.03,win_size=11,data_range=255,multichannel=True)\n",
    "            \n",
    "            value_g_13[0] += m.compare_mse(image3,image1)\n",
    "            value_g_13[1] += m.compare_nrmse(image3,image1)\n",
    "            value_g_13[2] += m.compare_psnr(image3,image1,data_range=255)\n",
    "            value_g_13[3] += m.compare_ssim(image3,image1,K1=0.01,K2=0.03,win_size=11,data_range=255,multichannel=True)\n",
    "            \n",
    "            value_g_14[0] += m.compare_mse(image4,image1)\n",
    "            value_g_14[1] += m.compare_nrmse(image4,image1)\n",
    "            value_g_14[2] += m.compare_psnr(image4,image1,data_range=255)\n",
    "            value_g_14[3] += m.compare_ssim(image4,image1,K1=0.01,K2=0.03,win_size=11,data_range=255,multichannel=True)\n",
    "            print(\"shenme\")\n",
    "            print(sample_files1[i],m.compare_psnr(image2,image1,data_range=255),m.compare_ssim(image2,image1,K1=0.01,K2=0.03,win_size=11,data_range=255,multichannel=True))\n",
    "\n",
    "        print(np.array(value_g)/len(sample_files1))\n",
    "        print(np.array(value_g_13)/len(sample_files1))\n",
    "        print(np.array(value_g_14)/len(sample_files1))\n",
    "\n",
    "def evaluate_test(dataset_name,epoch='test'):\n",
    "    for k,data_name in enumerate(dataset_name):\n",
    "        print(data_name)\n",
    "        sample_files1,sample_files2 = get_image_names(data_name,with_gt = True,epoch=epoch)\n",
    "        value_g = [0.0]*4\n",
    "        for i in range(0,len(sample_files1)):\n",
    "            image1 = Image.open(sample_files1[i])\n",
    "            image2 = Image.open(sample_files2[i])\n",
    "            image1 = np.array(image1)\n",
    "            image2 = np.array(image2)\n",
    "            # print np.shape(image1),np.shape(image2)\n",
    "            image1 = image1.astype(np.float32)\n",
    "            image2 = image2.astype(np.float32)\n",
    "            value_g[0] += m.compare_mse(image2,image1)\n",
    "            value_g[1] += m.compare_nrmse(image2,image1)\n",
    "            value_g[2] += m.compare_psnr(image2,image1,data_range=255)\n",
    "            value_g[3] += m.compare_ssim(image2,image1,K1=0.01,K2=0.03,win_size=11,data_range=255,multichannel=True)\n",
    "            # print(sample_files1[i],m.compare_psnr(image2,image1,data_range=255),m.compare_ssim(image2,image1,K1=0.01,K2=0.03,win_size=11,data_range=255,multichannel=True))\n",
    "        print(np.array(value_g)/len(sample_files1))\n",
    "       \n",
    "\n",
    "\n"
   ]
  },
  {
   "cell_type": "code",
   "execution_count": 16,
   "metadata": {},
   "outputs": [],
   "source": [
    "def eval(img,image_name):\n",
    "    value_g = [0.0]*4\n",
    "    value_g_13 = [0.0]*4\n",
    "    value_g_14 = [0.0]*4\n",
    "    width = img.shape[1]\n",
    "    h = 4\n",
    "    # img_A = img[:,width//h:width//h*(h-3),:]\n",
    "    # img_A = img[:,(width-15)//h*(h - 3):width//h*(h-1),:]\n",
    "    image1 = img[:, 0 : (width-15) // h * (h - 3), :]\n",
    "    image2 = img[:, (width-15) // h * (h - 3)+5:(width-15) // h * (h - 2)+5, :]\n",
    "    image3 = img[:, (width - 15) // h * (h - 2) + 10:(width - 15) // h * (h - 1) + 10, :]\n",
    "    image4 = img[:, (width - 15) // h * (h - 1) + 15:(width - 15) // h * (h - 0) + 15, :]\n",
    "    image1 = image1.astype(np.float32)        \n",
    "    image2 = image2.astype(np.float32)\n",
    "    image3 = image3.astype(np.float32)\n",
    "    image4 = image4.astype(np.float32)\n",
    "    value_g[0] += m.compare_mse(image2,image1)\n",
    "    value_g[1] += m.compare_nrmse(image2,image1)\n",
    "    value_g[2] += m.compare_psnr(image2,image1,data_range=255)\n",
    "    value_g[3] += m.compare_ssim(image2,image1,K1=0.01,K2=0.03,win_size=11,data_range=255,multichannel=True)\n",
    "            \n",
    "    value_g_13[0] += m.compare_mse(image3,image1)\n",
    "    value_g_13[1] += m.compare_nrmse(image3,image1)\n",
    "    value_g_13[2] += m.compare_psnr(image3,image1,data_range=255)    \n",
    "    value_g_13[3] += m.compare_ssim(image3,image1,K1=0.01,K2=0.03,win_size=11,data_range=255,multichannel=True)\n",
    "            \n",
    "    value_g_14[0] += m.compare_mse(image4,image1)\n",
    "    value_g_14[1] += m.compare_nrmse(image4,image1)\n",
    "    value_g_14[2] += m.compare_psnr(image4,image1,data_range=255)\n",
    "    value_g_14[3] += m.compare_ssim(image4,image1,K1=0.01,K2=0.03,win_size=11,data_range=255,multichannel=True)\n",
    "    \n",
    "    print('the eval of image :{}'.format(image_name))\n",
    "    print('the gt compare with w1 :')\n",
    "    print('mse  : {}   ,  nrmse : {}'.format(value_g[0],value_g[1]))\n",
    "    print('psnr : {}   ,  ssim  : {}'.format(value_g[2],value_g[3]))\n",
    "    print('the gt compare with w2 :')\n",
    "    print('mse  : {}   ,  nrmse : {}'.format(value_g_13[0],value_g_13[1]))\n",
    "    print('psnr : {}   ,  ssim  : {}'.format(value_g_13[2],value_g_13[3]))\n",
    "    print('the gt compare with fusion :')\n",
    "    print('mse  : {}   ,  nrmse : {}'.format(value_g_14[0],value_g_14[1]))\n",
    "    print('psnr : {}   ,  ssim  : {}'.format(value_g_14[2],value_g_14[3]))"
   ]
  },
  {
   "cell_type": "code",
   "execution_count": 14,
   "metadata": {
    "scrolled": true
   },
   "outputs": [
    {
     "name": "stderr",
     "output_type": "stream",
     "text": [
      "WARNING: Logging before flag parsing goes to stderr.\n",
      "W1018 15:23:56.217530 27884 image.py:664] Clipping input data to the valid range for imshow with RGB data ([0..1] for floats or [0..255] for integers).\n",
      "W1018 15:23:56.233486 27884 image.py:664] Clipping input data to the valid range for imshow with RGB data ([0..1] for floats or [0..255] for integers).\n",
      "W1018 15:23:56.250441 27884 image.py:664] Clipping input data to the valid range for imshow with RGB data ([0..1] for floats or [0..255] for integers).\n",
      "W1018 15:23:56.264404 27884 image.py:664] Clipping input data to the valid range for imshow with RGB data ([0..1] for floats or [0..255] for integers).\n"
     ]
    },
    {
     "name": "stdout",
     "output_type": "stream",
     "text": [
      "base_super/sample_super/\n",
      "(512, 512, 3)\n",
      "(512, 512, 3)\n",
      "(512, 512, 3)\n",
      "(512, 512, 3)\n"
     ]
    },
    {
     "name": "stderr",
     "output_type": "stream",
     "text": [
      "C:\\Users\\Tony\\Anaconda3\\lib\\site-packages\\skimage\\util\\arraycrop.py:177: FutureWarning: Using a non-tuple sequence for multidimensional indexing is deprecated; use `arr[tuple(seq)]` instead of `arr[seq]`. In the future this will be interpreted as an array index, `arr[np.array(seq)]`, which will result either in an error or a different result.\n",
      "  cropped = ar[slices]\n",
      "C:\\Users\\Tony\\Anaconda3\\lib\\site-packages\\matplotlib\\cbook\\deprecation.py:107: MatplotlibDeprecationWarning: Adding an axes using the same arguments as a previous axes currently reuses the earlier instance.  In a future version, a new instance will always be created and returned.  Meanwhile, this warning can be suppressed, and the future behavior ensured, by passing a unique label to each axes instance.\n",
      "  warnings.warn(message, mplDeprecation, stacklevel=1)\n",
      "W1018 15:23:56.817940 27884 image.py:664] Clipping input data to the valid range for imshow with RGB data ([0..1] for floats or [0..255] for integers).\n",
      "W1018 15:23:56.824921 27884 image.py:664] Clipping input data to the valid range for imshow with RGB data ([0..1] for floats or [0..255] for integers).\n",
      "W1018 15:23:56.832900 27884 image.py:664] Clipping input data to the valid range for imshow with RGB data ([0..1] for floats or [0..255] for integers).\n",
      "W1018 15:23:56.840881 27884 image.py:664] Clipping input data to the valid range for imshow with RGB data ([0..1] for floats or [0..255] for integers).\n"
     ]
    },
    {
     "name": "stdout",
     "output_type": "stream",
     "text": [
      "shenme\n",
      "base_super/sample_super/train_1685_79.tif 18.74215079813856 0.7820530270430567\n",
      "(512, 512, 3)\n",
      "(512, 512, 3)\n",
      "(512, 512, 3)\n",
      "(512, 512, 3)\n"
     ]
    },
    {
     "name": "stderr",
     "output_type": "stream",
     "text": [
      "W1018 15:23:57.394415 27884 image.py:664] Clipping input data to the valid range for imshow with RGB data ([0..1] for floats or [0..255] for integers).\n",
      "W1018 15:23:57.401396 27884 image.py:664] Clipping input data to the valid range for imshow with RGB data ([0..1] for floats or [0..255] for integers).\n",
      "W1018 15:23:57.410372 27884 image.py:664] Clipping input data to the valid range for imshow with RGB data ([0..1] for floats or [0..255] for integers).\n",
      "W1018 15:23:57.417353 27884 image.py:664] Clipping input data to the valid range for imshow with RGB data ([0..1] for floats or [0..255] for integers).\n"
     ]
    },
    {
     "name": "stdout",
     "output_type": "stream",
     "text": [
      "shenme\n",
      "base_super/sample_super/train_1685_84.tif 21.280868580589004 0.8591953252255567\n",
      "(512, 512, 3)\n",
      "(512, 512, 3)\n",
      "(512, 512, 3)\n",
      "(512, 512, 3)\n"
     ]
    },
    {
     "name": "stderr",
     "output_type": "stream",
     "text": [
      "W1018 15:23:58.003800 27884 image.py:664] Clipping input data to the valid range for imshow with RGB data ([0..1] for floats or [0..255] for integers).\n",
      "W1018 15:23:58.012777 27884 image.py:664] Clipping input data to the valid range for imshow with RGB data ([0..1] for floats or [0..255] for integers).\n"
     ]
    },
    {
     "name": "stdout",
     "output_type": "stream",
     "text": [
      "shenme\n",
      "base_super/sample_super/train_1685_89.tif 18.50215367700652 0.7762419518250724\n"
     ]
    },
    {
     "name": "stderr",
     "output_type": "stream",
     "text": [
      "W1018 15:23:58.019758 27884 image.py:664] Clipping input data to the valid range for imshow with RGB data ([0..1] for floats or [0..255] for integers).\n",
      "W1018 15:23:58.028735 27884 image.py:664] Clipping input data to the valid range for imshow with RGB data ([0..1] for floats or [0..255] for integers).\n"
     ]
    },
    {
     "name": "stdout",
     "output_type": "stream",
     "text": [
      "(512, 512, 3)\n",
      "(512, 512, 3)\n",
      "(512, 512, 3)\n",
      "(512, 512, 3)\n"
     ]
    },
    {
     "name": "stderr",
     "output_type": "stream",
     "text": [
      "W1018 15:23:58.587253 27884 image.py:664] Clipping input data to the valid range for imshow with RGB data ([0..1] for floats or [0..255] for integers).\n",
      "W1018 15:23:58.593237 27884 image.py:664] Clipping input data to the valid range for imshow with RGB data ([0..1] for floats or [0..255] for integers).\n",
      "W1018 15:23:58.600218 27884 image.py:664] Clipping input data to the valid range for imshow with RGB data ([0..1] for floats or [0..255] for integers).\n",
      "W1018 15:23:58.608198 27884 image.py:664] Clipping input data to the valid range for imshow with RGB data ([0..1] for floats or [0..255] for integers).\n"
     ]
    },
    {
     "name": "stdout",
     "output_type": "stream",
     "text": [
      "shenme\n",
      "base_super/sample_super/train_1685_9.tif 18.65785479458511 0.7782516578050039\n",
      "(512, 512, 3)\n",
      "(512, 512, 3)\n",
      "(512, 512, 3)\n",
      "(512, 512, 3)\n"
     ]
    },
    {
     "name": "stderr",
     "output_type": "stream",
     "text": [
      "W1018 15:23:59.200153 27884 image.py:664] Clipping input data to the valid range for imshow with RGB data ([0..1] for floats or [0..255] for integers).\n",
      "W1018 15:23:59.208133 27884 image.py:664] Clipping input data to the valid range for imshow with RGB data ([0..1] for floats or [0..255] for integers).\n",
      "W1018 15:23:59.214116 27884 image.py:664] Clipping input data to the valid range for imshow with RGB data ([0..1] for floats or [0..255] for integers).\n",
      "W1018 15:23:59.221098 27884 image.py:664] Clipping input data to the valid range for imshow with RGB data ([0..1] for floats or [0..255] for integers).\n"
     ]
    },
    {
     "name": "stdout",
     "output_type": "stream",
     "text": [
      "shenme\n",
      "base_super/sample_super/train_1685_94.tif 21.358948162481685 0.8627434062710918\n",
      "(512, 512, 3)\n",
      "(512, 512, 3)\n",
      "(512, 512, 3)\n",
      "(512, 512, 3)\n",
      "shenme\n",
      "base_super/sample_super/train_1685_99.tif 21.240857043874822 0.8594704362725637\n",
      "[686.80078316   0.93749229  19.96380551   0.8196593 ]\n",
      "[739.06268183   0.84664368  19.97801069   0.83443769]\n",
      "[1078.18036588    0.67995818   17.8259706     0.79211622]\n"
     ]
    },
    {
     "data": {
      "image/png": "[encoded data removed]",
      "text/plain": [
       "<Figure size 432x288 with 4 Axes>"
      ]
     },
     "metadata": {
      "needs_background": "light"
     },
     "output_type": "display_data"
    }
   ],
   "source": [
    "test_dataset_name =['base_super/sample_super/']\n",
    "evaluate_val(test_dataset_name,epoch='train')\n"
   ]
  },
  {
   "cell_type": "code",
   "execution_count": 18,
   "metadata": {},
   "outputs": [
    {
     "name": "stderr",
     "output_type": "stream",
     "text": [
      "C:\\Users\\Tony\\Anaconda3\\lib\\site-packages\\ipykernel_launcher.py:2: DeprecationWarning: `imread` is deprecated!\n",
      "`imread` is deprecated in SciPy 1.0.0, and will be removed in 1.2.0.\n",
      "Use ``imageio.imread`` instead.\n",
      "  \n"
     ]
    }
   ],
   "source": [
    "path='base_super/sample_super/train_1815_59.tif'\n",
    "img = scipy.misc.imread(path).astype(np.float)\n"
   ]
  },
  {
   "cell_type": "code",
   "execution_count": 19,
   "metadata": {},
   "outputs": [
    {
     "name": "stderr",
     "output_type": "stream",
     "text": [
      "C:\\Users\\Tony\\Anaconda3\\lib\\site-packages\\skimage\\util\\arraycrop.py:177: FutureWarning: Using a non-tuple sequence for multidimensional indexing is deprecated; use `arr[tuple(seq)]` instead of `arr[seq]`. In the future this will be interpreted as an array index, `arr[np.array(seq)]`, which will result either in an error or a different result.\n",
      "  cropped = ar[slices]\n"
     ]
    },
    {
     "name": "stdout",
     "output_type": "stream",
     "text": [
      "the eval of image :base_super/sample_super/train_1815_59.tif\n",
      "the gt compare with w1 :\n",
      "mse  : 853.2493909200033   ,  nrmse : 1.0988004713892527\n",
      "psnr : 18.8200437393209   ,  ssim  : 0.7807094694596413\n",
      "the gt compare with w2 :\n",
      "mse  : 1214.6032702128093   ,  nrmse : 0.6923615167496318\n",
      "psnr : 17.28645914779978   ,  ssim  : 0.7584636599259591\n",
      "the gt compare with fusion :\n",
      "mse  : 1267.7687924702961   ,  nrmse : 0.6843519278585619\n",
      "psnr : 17.100403039389395   ,  ssim  : 0.6605168129310601\n"
     ]
    }
   ],
   "source": [
    "eval(img,path)"
   ]
  }
 ],
 "metadata": {
  "kernelspec": {
   "display_name": "Python 3",
   "language": "python",
   "name": "python3"
  },
  "language_info": {
   "codemirror_mode": {
    "name": "ipython",
    "version": 3
   },
   "file_extension": ".py",
   "mimetype": "text/x-python",
   "name": "python",
   "nbconvert_exporter": "python",
   "pygments_lexer": "ipython3",
   "version": "3.7.0"
  }
 },
 "nbformat": 4,
 "nbformat_minor": 2
}
